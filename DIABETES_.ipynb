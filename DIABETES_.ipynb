{
  "nbformat": 4,
  "nbformat_minor": 0,
  "metadata": {
    "colab": {
      "name": "DIABETES .ipynb",
      "provenance": [],
      "collapsed_sections": []
    },
    "kernelspec": {
      "name": "python3",
      "display_name": "Python 3"
    },
    "language_info": {
      "name": "python"
    }
  },
  "cells": [
    {
      "cell_type": "markdown",
      "source": [
        "#Project Work!\n",
        "\n",
        "\n",
        "The project work is:\n",
        "\n",
        "Try different MLP models on you own dataset. You have to find a dataset than can be used during the home project. That means you have to search for a dataset in the web. \n",
        "\n",
        "You have to introduce the dataset - what is its properties and main characteristics.\n",
        "\n",
        "Also describe the problem type that is solved by using the dataset (classification or regression).\n",
        "\n",
        "Grading:\n",
        "-For grade 3 it is enough to try the next code snippet with your own dataset, describe the properties of the dataset and introduce the model performace. \n",
        "\n",
        "For greater grades please try more models and determine which model is the best according to the applied metrics.\n",
        "\n",
        "Necessary: you can use this colab notebook as a basis for your homework. Notes can be done within the notebook or in a separated document.\n",
        "\n",
        "After doing the home project, the notebook should be sent to: denes-fazakas.lehel@uni-obuda.hu\n",
        "\n",
        "If you want to use MATLAB, that is also possible - in this case, you should implement the program code from here in MATLAB. \n",
        "\n",
        "Due date: May 2, 12.00\n",
        "\n",
        "In case of any questions or if you need help - let me know via the given email address.\n",
        "\n",
        "Lehel Dénes-Fazakas"
      ],
      "metadata": {
        "id": "Au1y_VSe_vI0"
      }
    },
    {
      "cell_type": "code",
      "source": [
        ""
      ],
      "metadata": {
        "id": "b0wQxYRu2Ac2"
      },
      "execution_count": null,
      "outputs": []
    },
    {
      "cell_type": "code",
      "execution_count": 11,
      "metadata": {
        "colab": {
          "base_uri": "https://localhost:8080/"
        },
        "id": "7EsqgwCS_tSR",
        "outputId": "18d93d7c-d0bc-4322-9205-b0e26bb912d6"
      },
      "outputs": [
        {
          "output_type": "stream",
          "name": "stdout",
          "text": [
            "(768, 9)\n",
            "Iteration 1, loss = 15.03682414\n",
            "Iteration 2, loss = 0.71727543\n",
            "Iteration 3, loss = 0.80408621\n",
            "Iteration 4, loss = 0.89932586\n",
            "Iteration 5, loss = 0.98446445\n",
            "Iteration 6, loss = 1.04952590\n",
            "Iteration 7, loss = 1.12272225\n",
            "Iteration 8, loss = 1.15646311\n",
            "Iteration 9, loss = 1.18938871\n",
            "Iteration 10, loss = 1.21404426\n",
            "Training set score: 0.636000\n",
            "Test set score: 0.679104\n",
            "Accuracy: 0.679104\n",
            "tested_positive Precision: 0.000000\n",
            "tested_positive Recall: 0.000000\n",
            "tested_positive F1 score: 0.000000\n",
            "[[182   0]\n",
            " [ 86   0]]\n"
          ]
        },
        {
          "output_type": "stream",
          "name": "stderr",
          "text": [
            "/usr/local/lib/python3.7/dist-packages/sklearn/neural_network/_multilayer_perceptron.py:696: ConvergenceWarning: Stochastic Optimizer: Maximum iterations (10) reached and the optimization hasn't converged yet.\n",
            "  ConvergenceWarning,\n",
            "/usr/local/lib/python3.7/dist-packages/sklearn/metrics/_classification.py:1318: UndefinedMetricWarning: Precision is ill-defined and being set to 0.0 due to no predicted samples. Use `zero_division` parameter to control this behavior.\n",
            "  _warn_prf(average, modifier, msg_start, len(result))\n"
          ]
        }
      ],
      "source": [
        "import matplotlib.pyplot as plt\n",
        "from sklearn.datasets import fetch_openml\n",
        "from sklearn.neural_network import MLPClassifier\n",
        "from sklearn.metrics import accuracy_score\n",
        "from sklearn.metrics import precision_score\n",
        "from sklearn.metrics import recall_score\n",
        "from sklearn.metrics import f1_score\n",
        "from sklearn.metrics import cohen_kappa_score\n",
        "from sklearn.metrics import roc_auc_score\n",
        "from sklearn.metrics import confusion_matrix\n",
        "import numpy as np\n",
        "import pandas as pd\n",
        "\n",
        "\n",
        "#print(doc)\n",
        "\n",
        "\n",
        "\n",
        "df =pd.read_csv(\"/content/diabetes.csv\")\n",
        "print(df.shape)\n",
        "df.describe().transpose()\n",
        "X, y = fetch_openml('diabetes', version=1, return_X_y=True)\n",
        "\n",
        "# rescale the data, use the traditional train/test split\n",
        "X_train, X_test = X[:500], X[500:]\n",
        "y_train, y_test = y[:500], y[500:]\n",
        "\n",
        "\n",
        "#We create a MLP network with 784 features coming from pixels and one hidden layer with dimension of 50 and an output \n",
        "# layer with 10 outputs (digits) [0,9]. Activation function is relu\n",
        "mlp = MLPClassifier(hidden_layer_sizes=(50,), max_iter=10, alpha=1e-4,\n",
        "                    solver='sgd', verbose=10,activation='relu', random_state=1,\n",
        "                    learning_rate_init=.1)\n",
        "\n",
        "\n",
        "mlp.fit(X_train, y_train)\n",
        "print(\"Training set score: %f\" % mlp.score(X_train, y_train))\n",
        "print(\"Test set score: %f\" % mlp.score(X_test, y_test))\n",
        "\n",
        "\n",
        "y_pre = mlp.predict(X_test)\n",
        "\n",
        "\n",
        "accuracy = accuracy_score(y_test, y_pre)\n",
        "print('Accuracy: %f' % accuracy)\n",
        "for i in np.unique(y_test):\n",
        "    ytest = []\n",
        "    ypre = []\n",
        "    for y in y_test:\n",
        "        if (y == i):\n",
        "            ytest.append(1)\n",
        "        else:\n",
        "            ytest.append(0)\n",
        "    for y in y_pre:\n",
        "        if (y == i):\n",
        "            ypre.append(1)\n",
        "        else:\n",
        "            ypre.append(0)\n",
        "\n",
        "\n",
        "#precision tp / (tp + fp)\n",
        "precision = precision_score(ytest, ypre)\n",
        "print(i + ' Precision: %f' % precision)\n",
        "# recall: tp / (tp + fn)\n",
        "recall = recall_score(ytest, ypre)\n",
        "print(i+' Recall: %f' % recall)\n",
        "# f1: 2 tp / (2 tp + fp + fn)\n",
        "f1 = f1_score(ytest, ypre)\n",
        "print(i + ' F1 score: %f' % f1)\n",
        "matrix = confusion_matrix(y_test, y_pre)\n",
        "print(matrix)"
      ]
    },
    {
      "cell_type": "code",
      "source": [
        "from google.colab import drive\n",
        "drive.mount('/content/drive')"
      ],
      "metadata": {
        "id": "vYVR8qoH6mFu"
      },
      "execution_count": null,
      "outputs": []
    },
    {
      "cell_type": "code",
      "source": [
        ""
      ],
      "metadata": {
        "id": "FbCCZh8t_uRI"
      },
      "execution_count": null,
      "outputs": []
    }
  ]
}